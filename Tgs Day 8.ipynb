{
 "cells": [
  {
   "cell_type": "markdown",
   "metadata": {},
   "source": [
    "1. Encapsulation"
   ]
  },
  {
   "cell_type": "markdown",
   "metadata": {},
   "source": [
    "Soal 8.1"
   ]
  },
  {
   "cell_type": "code",
   "execution_count": 3,
   "metadata": {},
   "outputs": [
    {
     "name": "stdout",
     "output_type": "stream",
     "text": [
      "MATKUL Konsep SI\n",
      "NILAI A\n",
      "MATKUL Agama 1\n",
      "NILAI A\n",
      "MATKUL Pend.Anti Korupsi\n",
      "NILAI A\n",
      "MATKUL Bisnis Digital\n",
      "NILAI B\n",
      "MATKUL PBO\n",
      "NILAI B\n",
      "MATKUL Menpro\n",
      "NILAI A\n",
      "MATKUL RPL\n",
      "NILAI A\n",
      "MATKUL Animasi & Multi\n",
      "NILAI A\n",
      "MATKUL STKI\n",
      "NILAI A\n"
     ]
    },
    {
     "data": {
      "text/plain": [
       "null"
      ]
     },
     "execution_count": 3,
     "metadata": {},
     "output_type": "execute_result"
    }
   ],
   "source": [
    "\n",
    " String[][] Siswa = {\n",
    "    {\"Konsep SI\",\"A\"},\n",
    "    {\"Agama 1\",\"A\"},\n",
    "    {\"Pend.Anti Korupsi\",\"A\"},\n",
    "    {\"Bisnis Digital\",\"B\"},\n",
    "    {\"PBO\",\"B\"},\n",
    "    {\"Menpro\",\"A\"},\n",
    "    {\"RPL\",\"A\"},\n",
    "    {\"Animasi & Multi\",\"A\"},\n",
    "    {\"STKI\",\"A\"}\n",
    "};\n",
    "\n",
    "for(int x=0; x < Siswa.length; x++){\n",
    "    System.out.println(\"MATKUL \"+Siswa[x][0]);\n",
    "    System.out.println(\"NILAI \"+Siswa[x][1]);\n",
    "   \n",
    "}"
   ]
  },
  {
   "cell_type": "markdown",
   "metadata": {},
   "source": [
    "2. Inheritence"
   ]
  },
  {
   "cell_type": "markdown",
   "metadata": {},
   "source": [
    "Soal 8.2"
   ]
  },
  {
   "cell_type": "code",
   "execution_count": 1,
   "metadata": {},
   "outputs": [
    {
     "data": {
      "text/plain": [
       "com.twosigma.beaker.javash.bkr5462f6dd.Mahasiswa"
      ]
     },
     "execution_count": 1,
     "metadata": {},
     "output_type": "execute_result"
    }
   ],
   "source": [
    "public class Mahasiswa {\n",
    "    String nama;\n",
    "    double IPK;\n",
    "    int semester;\n",
    "\n",
    "public String hitungYudisium() {\n",
    "    String yudisium;\n",
    "    if ( (semester<=8) && (IPK>3.5) ) {\n",
    "            yudisium = \"Cum Laude\";\n",
    "        } else {\n",
    "            yudisium = \"Memuaskan\";\n",
    "        }\n",
    "        return yudisium;\n",
    "    }\n",
    "}"
   ]
  },
  {
   "cell_type": "code",
   "execution_count": 2,
   "metadata": {},
   "outputs": [
    {
     "data": {
      "text/plain": [
       "com.twosigma.beaker.javash.bkr5462f6dd.MahasiswaS2"
      ]
     },
     "execution_count": 2,
     "metadata": {},
     "output_type": "execute_result"
    }
   ],
   "source": [
    "public class MahasiswaS2 extends Mahasiswa {\n",
    "\n",
    "public String hitungYudisium() {\n",
    "        String yudisium;\n",
    "        if ( (semester<=6) && (IPK>3.8) ) {\n",
    "            yudisium = \"Cum Laude\";\n",
    "        } else {\n",
    "            yudisium = \"Memuaskan\";\n",
    "        }\n",
    "        return yudisium;\n",
    "    }\n",
    "}"
   ]
  },
  {
   "cell_type": "code",
   "execution_count": 67,
   "metadata": {},
   "outputs": [
    {
     "name": "stdout",
     "output_type": "stream",
     "text": [
      "Anda Cum Laude\n",
      "Memuaskan\n"
     ]
    },
    {
     "data": {
      "text/plain": [
       "null"
      ]
     },
     "execution_count": 67,
     "metadata": {},
     "output_type": "execute_result"
    }
   ],
   "source": [
    "Mahasiswa m = new Mahasiswa();\n",
    "        m.IPK=3.8;\n",
    "        m.semester=5;\n",
    "        System.out.println(m.hitungYudisium());\n",
    "\n",
    "        MahasiswaS2 mS2 = new MahasiswaS2();  \n",
    "        mS2.IPK=3.8;\n",
    "        mS2.semester=5;\n",
    "        System.out.println(mS2.hitungYudisium());"
   ]
  },
  {
   "cell_type": "markdown",
   "metadata": {},
   "source": [
    "Soal 8.3"
   ]
  },
  {
   "cell_type": "markdown",
   "metadata": {},
   "source": [
    "Buatlah class MahasiswaS3 yang merupakan turunan dari class Mahasiswa. Override method hitungYudisium dengan syarat IPK harus >= 3.6 dan semester <= 6. dengan implementassi sebagai berikut"
   ]
  },
  {
   "cell_type": "code",
   "execution_count": 62,
   "metadata": {},
   "outputs": [
    {
     "data": {
      "text/plain": [
       "com.twosigma.beaker.javash.bkr5462f6dd.Mahasiswa"
      ]
     },
     "execution_count": 62,
     "metadata": {},
     "output_type": "execute_result"
    }
   ],
   "source": [
    "public class Mahasiswa {\n",
    "    String nama;\n",
    "    double IPK;\n",
    "    int semester;\n",
    "\n",
    "public String hitungYudisium() {\n",
    "    String yudisium;\n",
    "    if ( (semester<=6) && (IPK>3.6) ) {\n",
    "            yudisium = \"Anda Cum Laude\";\n",
    "        } else {\n",
    "            yudisium = \"Nilainya Memuaskan\";\n",
    "        }\n",
    "        return yudisium;\n",
    "    }\n",
    "}"
   ]
  },
  {
   "cell_type": "code",
   "execution_count": 65,
   "metadata": {},
   "outputs": [
    {
     "data": {
      "text/plain": [
       "com.twosigma.beaker.javash.bkr5462f6dd.MahasiswaS3"
      ]
     },
     "execution_count": 65,
     "metadata": {},
     "output_type": "execute_result"
    }
   ],
   "source": [
    "public class MahasiswaS3 extends Mahasiswa {\n",
    "\n",
    "public String hitungYudisium() {\n",
    "        String yudisium;\n",
    "        if ( (semester<=6) && (IPK>3.6) ) {\n",
    "            yudisium = \"Anda Cum Laude\";\n",
    "        } else {\n",
    "            yudisium = \"Nilainya Memuaskan\";\n",
    "        }\n",
    "        return yudisium;\n",
    "    }\n",
    "}"
   ]
  },
  {
   "cell_type": "code",
   "execution_count": 66,
   "metadata": {},
   "outputs": [
    {
     "name": "stdout",
     "output_type": "stream",
     "text": [
      "Anda Cum Laude\n",
      "Anda Cum Laude\n"
     ]
    },
    {
     "data": {
      "text/plain": [
       "null"
      ]
     },
     "execution_count": 66,
     "metadata": {},
     "output_type": "execute_result"
    }
   ],
   "source": [
    "Mahasiswa m = new Mahasiswa();\n",
    "        m.IPK=3.8;\n",
    "        m.semester=3;\n",
    "        System.out.println(m.hitungYudisium());\n",
    "\n",
    "        MahasiswaS3 mS3 = new MahasiswaS3();  \n",
    "        mS3.IPK=3.8;\n",
    "        mS3.semester=3;\n",
    "        System.out.println(mS3.hitungYudisium());"
   ]
  },
  {
   "cell_type": "markdown",
   "metadata": {},
   "source": [
    "3.Polymorphism"
   ]
  },
  {
   "cell_type": "markdown",
   "metadata": {},
   "source": [
    "3.1 Dynamic Binding"
   ]
  },
  {
   "cell_type": "markdown",
   "metadata": {},
   "source": [
    "Soal 8.4"
   ]
  },
  {
   "cell_type": "markdown",
   "metadata": {},
   "source": [
    "Asumsikan kita telah mempunya class Mahasiswa dan class MahasiswaS3 dari kode sebelumnya. Ubah Tugas 8.3 lalu tambahkan code berikut untuk mengimplementasikan kode berikut:"
   ]
  },
  {
   "cell_type": "code",
   "execution_count": 47,
   "metadata": {},
   "outputs": [
    {
     "name": "stdout",
     "output_type": "stream",
     "text": [
      "Nilainya Memuaskan\n",
      "Anda Cum Laude\n"
     ]
    },
    {
     "data": {
      "text/plain": [
       "null"
      ]
     },
     "execution_count": 47,
     "metadata": {},
     "output_type": "execute_result"
    }
   ],
   "source": [
    "Mahasiswa m;\n",
    "        Mahasiswa mS1 = new Mahasiswa();\n",
    "        MahasiswaS3 mS3 = new MahasiswaS3();        \n",
    "\n",
    "        mS1.IPK=3.6;\n",
    "        mS1.semester=8;\n",
    "\n",
    "        mS3.IPK = 3.8;\n",
    "        mS3.semester=3;\n",
    "\n",
    "        m = mS1 ; //bisa        \n",
    "        System.out.println(m.hitungYudisium());\n",
    "        m = mS3 ; //bisa juga\n",
    "        m.hitungYudisium();         \n",
    "        System.out.println(m.hitungYudisium());\n",
    "\n",
    "        //array\n",
    "        Mahasiswa[] arrMhs = new Mahasiswa[2];\n",
    "        arrMhs[0] = mS1;\n",
    "        arrMhs[1] = mS3;"
   ]
  },
  {
   "cell_type": "markdown",
   "metadata": {},
   "source": [
    "3.2 Overloading"
   ]
  },
  {
   "cell_type": "markdown",
   "metadata": {},
   "source": [
    "Soal 8.5"
   ]
  },
  {
   "cell_type": "code",
   "execution_count": 48,
   "metadata": {},
   "outputs": [
    {
     "data": {
      "text/plain": [
       "com.twosigma.beaker.javash.bkr5462f6dd.ContohOverloading"
      ]
     },
     "execution_count": 48,
     "metadata": {},
     "output_type": "execute_result"
    }
   ],
   "source": [
    "//Program 8.5\n",
    "public class ContohOverloading { \n",
    " public void jumlah (int a, int b){\n",
    " System.out.println(\"Jumlah 2 angka =\"+ (a + b));\n",
    " } \n",
    " //oveloading perbedaan jumlah parameter\n",
    " public void jumlah (int a, int b, int c){\n",
    " System.out.println(\"Jumlah 3 angka =\" + (a + b + c));\n",
    " } \n",
    " //overloading perbedaan tipe data parameter\n",
    " public void jumlah (double a, int b){\n",
    " System.out.println(\"Jumlah 2 angka (double+int) = \"+ (a + b));\n",
    " } \n",
    " //overloading perbedaan urutan tipe data parameter\n",
    " public void jumlah (int b, double a){\n",
    " System.out.println(\"Jumlah 2 angka (int+double) = \"+ (a + b));\n",
    " }\n",
    "}"
   ]
  },
  {
   "cell_type": "code",
   "execution_count": 49,
   "metadata": {},
   "outputs": [
    {
     "name": "stdout",
     "output_type": "stream",
     "text": [
      "Jumlah 2 angka =115\n",
      "Jumlah 3 angka =920\n",
      "Jumlah 2 angka (double+int) = 68.43\n",
      "Jumlah 2 angka (int+double) = 61.23\n"
     ]
    },
    {
     "data": {
      "text/plain": [
       "null"
      ]
     },
     "execution_count": 49,
     "metadata": {},
     "output_type": "execute_result"
    }
   ],
   "source": [
    "ContohOverloading co  = new ContohOverloading();        \n",
    "        co.jumlah(83,32);\n",
    "        co.jumlah(34,454,432);\n",
    "        co.jumlah(34.43,34);\n",
    "        co.jumlah(28,33.23);"
   ]
  },
  {
   "cell_type": "markdown",
   "metadata": {},
   "source": [
    "3.3 Overriding"
   ]
  },
  {
   "cell_type": "markdown",
   "metadata": {},
   "source": [
    "Soal 8.6"
   ]
  },
  {
   "cell_type": "markdown",
   "metadata": {},
   "source": [
    "Implementasikan Program 8.6 "
   ]
  },
  {
   "cell_type": "code",
   "execution_count": 52,
   "metadata": {},
   "outputs": [
    {
     "data": {
      "text/plain": [
       "com.twosigma.beaker.javash.bkr5462f6dd.Binatang"
      ]
     },
     "execution_count": 52,
     "metadata": {},
     "output_type": "execute_result"
    }
   ],
   "source": [
    "//Program 8.6\n",
    "\n",
    "public class Binatang {\n",
    "    public void begerak(){\n",
    "        System.out.println(\"Binatang bergerak sesuai kemampuannya\");\n",
    "    }\n",
    "    public void berkembangBiak(){\n",
    "        System.out.println(\"Binatang berkembang biak sesuai kemampuannya\");\n",
    "    }\n",
    "\n",
    "}"
   ]
  },
  {
   "cell_type": "code",
   "execution_count": 53,
   "metadata": {},
   "outputs": [
    {
     "data": {
      "text/plain": [
       "com.twosigma.beaker.javash.bkr5462f6dd.Mamalia"
      ]
     },
     "execution_count": 53,
     "metadata": {},
     "output_type": "execute_result"
    }
   ],
   "source": [
    "\n",
    "public class Mamalia extends Binatang {\n",
    "    //overriding method parent class\n",
    "    public void begerak(){\n",
    "        System.out.println(\"Mamalia bergerak sebagian besar dengan kakinya\");\n",
    "    }    \n",
    "    public void berlari(){\n",
    "        System.out.println(\"Sebagian Mamalia dapat berlari\");\n",
    "    }\n",
    "}"
   ]
  },
  {
   "cell_type": "code",
   "execution_count": 54,
   "metadata": {},
   "outputs": [
    {
     "name": "stdout",
     "output_type": "stream",
     "text": [
      "Binatang bergerak sesuai kemampuannya\n",
      "Mamalia bergerak sebagian besar dengan kakinya\n",
      "Mamalia bergerak sebagian besar dengan kakinya\n",
      "Binatang berkembang biak sesuai kemampuannya\n"
     ]
    },
    {
     "data": {
      "text/plain": [
       "null"
      ]
     },
     "execution_count": 54,
     "metadata": {},
     "output_type": "execute_result"
    }
   ],
   "source": [
    "Binatang b = new Binatang();\n",
    "        Mamalia m = new Mamalia();\n",
    "        Binatang bm = new Mamalia();\n",
    "\n",
    "        b.begerak();\n",
    "        m.begerak();\n",
    "        bm.begerak();\n",
    "        bm.berkembangBiak();"
   ]
  },
  {
   "cell_type": "markdown",
   "metadata": {},
   "source": [
    "3.5 Interface Class"
   ]
  },
  {
   "cell_type": "markdown",
   "metadata": {},
   "source": [
    "Hubungan Antara Class dan Interface"
   ]
  },
  {
   "cell_type": "markdown",
   "metadata": {},
   "source": [
    "Soal 8.7 "
   ]
  },
  {
   "cell_type": "code",
   "execution_count": 56,
   "metadata": {},
   "outputs": [
    {
     "data": {
      "text/plain": [
       "com.twosigma.beaker.javash.bkr5462f6dd.CetakLaporan"
      ]
     },
     "execution_count": 56,
     "metadata": {},
     "output_type": "execute_result"
    }
   ],
   "source": [
    "//Program 8.7\n",
    "public interface CetakLaporan {\n",
    "    public void cetakA4();\n",
    "    public void cetakA3();\n",
    "}"
   ]
  },
  {
   "cell_type": "code",
   "execution_count": 57,
   "metadata": {},
   "outputs": [
    {
     "data": {
      "text/plain": [
       "com.twosigma.beaker.javash.bkr5462f6dd.LaporanPenjualan"
      ]
     },
     "execution_count": 57,
     "metadata": {},
     "output_type": "execute_result"
    }
   ],
   "source": [
    "public class LaporanPenjualan implements CetakLaporan{\n",
    "    public void cetakA4(){\n",
    "        System.out.println(\"Cetak Laporan di A4\");\n",
    "    }\n",
    "    public void cetakA3(){\n",
    "        System.out.println(\"Cetak Laporan di A3\");\n",
    "    }\n",
    "}"
   ]
  },
  {
   "cell_type": "code",
   "execution_count": 58,
   "metadata": {},
   "outputs": [
    {
     "name": "stdout",
     "output_type": "stream",
     "text": [
      "Cetak Laporan di A3\n",
      "Cetak Laporan di A4\n"
     ]
    },
    {
     "data": {
      "text/plain": [
       "null"
      ]
     },
     "execution_count": 58,
     "metadata": {},
     "output_type": "execute_result"
    }
   ],
   "source": [
    "LaporanPenjualan lt = new LaporanPenjualan();\n",
    "        lt.cetakA3();\n",
    "        lt.cetakA4();"
   ]
  },
  {
   "cell_type": "markdown",
   "metadata": {},
   "source": [
    "Pewarisan Pada Interface"
   ]
  },
  {
   "cell_type": "markdown",
   "metadata": {},
   "source": [
    "Soal 8.8"
   ]
  },
  {
   "cell_type": "code",
   "execution_count": 71,
   "metadata": {},
   "outputs": [
    {
     "data": {
      "text/plain": [
       "com.twosigma.beaker.javash.bkr5462f6dd.TampilLaporan"
      ]
     },
     "execution_count": 71,
     "metadata": {},
     "output_type": "execute_result"
    }
   ],
   "source": [
    "//Program 8.8\n",
    "public interface TampilLaporan {\n",
    "    public void tampilWeb();\n",
    "    public void tampilMobile();\n",
    "}"
   ]
  },
  {
   "cell_type": "code",
   "execution_count": 72,
   "metadata": {},
   "outputs": [
    {
     "data": {
      "text/plain": [
       "com.twosigma.beaker.javash.bkr5462f6dd.LaporanPembelian"
      ]
     },
     "execution_count": 72,
     "metadata": {},
     "output_type": "execute_result"
    }
   ],
   "source": [
    "\n",
    "public class LaporanPembelian implements CetakLaporan, TampilLaporan{\n",
    "    public void cetakA4(){\n",
    "        System.out.println(\"Cetak Laporan di A4\");\n",
    "    }\n",
    "    public void cetakA3(){\n",
    "        System.out.println(\"Cetak Laporan di A3\");\n",
    "    }\n",
    "    public void tampilWeb(){\n",
    "        System.out.println(\"Tampil di Monitor\");\n",
    "    }\n",
    "    public void tampilMobile(){\n",
    "        System.out.println(\"Tampil di Handphone\");\n",
    "    }\n",
    "}"
   ]
  },
  {
   "cell_type": "code",
   "execution_count": 73,
   "metadata": {},
   "outputs": [
    {
     "name": "stdout",
     "output_type": "stream",
     "text": [
      "Cetak Laporan di A3\n",
      "Cetak Laporan di A4\n",
      "Tampil di Handphone\n",
      "Tampil di Monitor\n"
     ]
    },
    {
     "data": {
      "text/plain": [
       "null"
      ]
     },
     "execution_count": 73,
     "metadata": {},
     "output_type": "execute_result"
    }
   ],
   "source": [
    "LaporanPembelian lp = new LaporanPembelian();\n",
    "        lp.cetakA3();\n",
    "        lp.cetakA4();\n",
    "        lp.tampilMobile();\n",
    "        lp.tampilWeb();"
   ]
  },
  {
   "cell_type": "markdown",
   "metadata": {},
   "source": [
    "Soal 8.9"
   ]
  },
  {
   "cell_type": "markdown",
   "metadata": {},
   "source": [
    "Kesimpulan berkait dengan materi Pilar - pilar dalam Pemrograman Berorientasi Objek ;"
   ]
  },
  {
   "cell_type": "markdown",
   "metadata": {},
   "source": [
    "_Enkapsulasi (Encapsulation) yang berarti pembungkusan variabel dan method dalam sebuah objek yang terlindungi serta menyediakan interface untuk mengakses variable tersebut\n",
    "Atau Encapsulation adalah penyatuan beberapa atribut (field) dan fungsi (method) kedalam object\n",
    "3 hak akses yaitu public , private , protected\n",
    "_Penurunan (Inheritance) merupakan pewarisan atribut dan method dari sebuah class ke class lainnya.\n",
    "inheritance bertujuan membentuk obyek baru yang memiliki sifat sama atau mirip dengan obyek yang sudah ada sebelumnya (pewarisan)\n",
    "_Polimorsisme (Pholymorpism) adalah kemampuan suatu objek untuk memiliki lebih dari satu bentuk.\n",
    "Atau Polymorphic dapat berarti banyak bentuk, maksudnya yaitu kita dapat menimpa (override), suatu method, yang berasal dari parent class (super class) dimana object tersebut diturunkan, sehingga memiliki kelakuan yang berbeda."
   ]
  },
  {
   "cell_type": "markdown",
   "metadata": {},
   "source": [
    "Hamdan syukron Lillah\n",
    "\n",
    "Selesai"
   ]
  }
 ],
 "metadata": {
  "kernelspec": {
   "display_name": "Java",
   "language": "java",
   "name": "java"
  },
  "language_info": {
   "codemirror_mode": "text/x-java",
   "file_extension": ".java",
   "mimetype": "",
   "name": "Java",
   "nbconverter_exporter": "",
   "version": "1.8.0_121"
  },
  "toc": {
   "base_numbering": 1,
   "nav_menu": {},
   "number_sections": false,
   "sideBar": false,
   "skip_h1_title": false,
   "title_cell": "Table of Contents",
   "title_sidebar": "Contents",
   "toc_cell": false,
   "toc_position": {},
   "toc_section_display": false,
   "toc_window_display": false
  }
 },
 "nbformat": 4,
 "nbformat_minor": 2
}
